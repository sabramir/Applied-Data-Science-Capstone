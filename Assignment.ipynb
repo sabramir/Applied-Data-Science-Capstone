{
 "cells": [
  {
   "cell_type": "markdown",
   "metadata": {},
   "source": [
    "## Segmenting and Clustering Neighbourhoods in Toronto"
   ]
  },
  {
   "cell_type": "markdown",
   "metadata": {},
   "source": [
    "### Goal: Segmenting and clustering neighborhoods in the city of Toronto, Canada"
   ]
  },
  {
   "cell_type": "markdown",
   "metadata": {},
   "source": [
    "### First part"
   ]
  },
  {
   "cell_type": "markdown",
   "metadata": {},
   "source": [
    "#### Importing libraries"
   ]
  },
  {
   "cell_type": "code",
   "execution_count": 1,
   "metadata": {},
   "outputs": [],
   "source": [
    "import pandas as pd\n",
    "import numpy as np"
   ]
  },
  {
   "cell_type": "code",
   "execution_count": 2,
   "metadata": {},
   "outputs": [
    {
     "data": {
      "text/html": [
       "<div>\n",
       "<style scoped>\n",
       "    .dataframe tbody tr th:only-of-type {\n",
       "        vertical-align: middle;\n",
       "    }\n",
       "\n",
       "    .dataframe tbody tr th {\n",
       "        vertical-align: top;\n",
       "    }\n",
       "\n",
       "    .dataframe thead th {\n",
       "        text-align: right;\n",
       "    }\n",
       "</style>\n",
       "<table border=\"1\" class=\"dataframe\">\n",
       "  <thead>\n",
       "    <tr style=\"text-align: right;\">\n",
       "      <th></th>\n",
       "      <th>Postal Code</th>\n",
       "      <th>Borough</th>\n",
       "      <th>Neighborhood</th>\n",
       "    </tr>\n",
       "  </thead>\n",
       "  <tbody>\n",
       "    <tr>\n",
       "      <th>0</th>\n",
       "      <td>M1A</td>\n",
       "      <td>Not assigned</td>\n",
       "      <td>Not assigned</td>\n",
       "    </tr>\n",
       "    <tr>\n",
       "      <th>1</th>\n",
       "      <td>M2A</td>\n",
       "      <td>Not assigned</td>\n",
       "      <td>Not assigned</td>\n",
       "    </tr>\n",
       "    <tr>\n",
       "      <th>2</th>\n",
       "      <td>M3A</td>\n",
       "      <td>North York</td>\n",
       "      <td>Parkwoods</td>\n",
       "    </tr>\n",
       "    <tr>\n",
       "      <th>3</th>\n",
       "      <td>M4A</td>\n",
       "      <td>North York</td>\n",
       "      <td>Victoria Village</td>\n",
       "    </tr>\n",
       "    <tr>\n",
       "      <th>4</th>\n",
       "      <td>M5A</td>\n",
       "      <td>Downtown Toronto</td>\n",
       "      <td>Regent Park, Harbourfront</td>\n",
       "    </tr>\n",
       "  </tbody>\n",
       "</table>\n",
       "</div>"
      ],
      "text/plain": [
       "  Postal Code           Borough               Neighborhood\n",
       "0         M1A      Not assigned               Not assigned\n",
       "1         M2A      Not assigned               Not assigned\n",
       "2         M3A        North York                  Parkwoods\n",
       "3         M4A        North York           Victoria Village\n",
       "4         M5A  Downtown Toronto  Regent Park, Harbourfront"
      ]
     },
     "execution_count": 2,
     "metadata": {},
     "output_type": "execute_result"
    }
   ],
   "source": [
    "# Read table into dataframe\n",
    "df = pd.read_html('https://en.wikipedia.org/wiki/List_of_postal_codes_of_Canada:_M')[0]\n",
    "df.rename(columns={'Neighbourhood':'Neighborhood'}, inplace=True)\n",
    "df.head()"
   ]
  },
  {
   "cell_type": "code",
   "execution_count": 3,
   "metadata": {},
   "outputs": [
    {
     "data": {
      "text/html": [
       "<div>\n",
       "<style scoped>\n",
       "    .dataframe tbody tr th:only-of-type {\n",
       "        vertical-align: middle;\n",
       "    }\n",
       "\n",
       "    .dataframe tbody tr th {\n",
       "        vertical-align: top;\n",
       "    }\n",
       "\n",
       "    .dataframe thead th {\n",
       "        text-align: right;\n",
       "    }\n",
       "</style>\n",
       "<table border=\"1\" class=\"dataframe\">\n",
       "  <thead>\n",
       "    <tr style=\"text-align: right;\">\n",
       "      <th></th>\n",
       "      <th>Postal Code</th>\n",
       "      <th>Borough</th>\n",
       "      <th>Neighborhood</th>\n",
       "    </tr>\n",
       "  </thead>\n",
       "  <tbody>\n",
       "    <tr>\n",
       "      <th>2</th>\n",
       "      <td>M3A</td>\n",
       "      <td>North York</td>\n",
       "      <td>Parkwoods</td>\n",
       "    </tr>\n",
       "    <tr>\n",
       "      <th>3</th>\n",
       "      <td>M4A</td>\n",
       "      <td>North York</td>\n",
       "      <td>Victoria Village</td>\n",
       "    </tr>\n",
       "    <tr>\n",
       "      <th>4</th>\n",
       "      <td>M5A</td>\n",
       "      <td>Downtown Toronto</td>\n",
       "      <td>Regent Park, Harbourfront</td>\n",
       "    </tr>\n",
       "    <tr>\n",
       "      <th>5</th>\n",
       "      <td>M6A</td>\n",
       "      <td>North York</td>\n",
       "      <td>Lawrence Manor, Lawrence Heights</td>\n",
       "    </tr>\n",
       "    <tr>\n",
       "      <th>6</th>\n",
       "      <td>M7A</td>\n",
       "      <td>Downtown Toronto</td>\n",
       "      <td>Queen's Park, Ontario Provincial Government</td>\n",
       "    </tr>\n",
       "  </tbody>\n",
       "</table>\n",
       "</div>"
      ],
      "text/plain": [
       "  Postal Code           Borough                                 Neighborhood\n",
       "2         M3A        North York                                    Parkwoods\n",
       "3         M4A        North York                             Victoria Village\n",
       "4         M5A  Downtown Toronto                    Regent Park, Harbourfront\n",
       "5         M6A        North York             Lawrence Manor, Lawrence Heights\n",
       "6         M7A  Downtown Toronto  Queen's Park, Ontario Provincial Government"
      ]
     },
     "execution_count": 3,
     "metadata": {},
     "output_type": "execute_result"
    }
   ],
   "source": [
    "# Ignore cells with a borough that is Not assigned.\n",
    "df = df[df['Borough'] != 'Not assigned']\n",
    "df.head()"
   ]
  },
  {
   "cell_type": "code",
   "execution_count": 4,
   "metadata": {},
   "outputs": [
    {
     "data": {
      "text/html": [
       "<div>\n",
       "<style scoped>\n",
       "    .dataframe tbody tr th:only-of-type {\n",
       "        vertical-align: middle;\n",
       "    }\n",
       "\n",
       "    .dataframe tbody tr th {\n",
       "        vertical-align: top;\n",
       "    }\n",
       "\n",
       "    .dataframe thead th {\n",
       "        text-align: right;\n",
       "    }\n",
       "</style>\n",
       "<table border=\"1\" class=\"dataframe\">\n",
       "  <thead>\n",
       "    <tr style=\"text-align: right;\">\n",
       "      <th></th>\n",
       "      <th>Borough</th>\n",
       "      <th>Neighborhood</th>\n",
       "    </tr>\n",
       "    <tr>\n",
       "      <th>Postal Code</th>\n",
       "      <th></th>\n",
       "      <th></th>\n",
       "    </tr>\n",
       "  </thead>\n",
       "  <tbody>\n",
       "    <tr>\n",
       "      <th>M3A</th>\n",
       "      <td>North York</td>\n",
       "      <td>Parkwoods</td>\n",
       "    </tr>\n",
       "    <tr>\n",
       "      <th>M4A</th>\n",
       "      <td>North York</td>\n",
       "      <td>Victoria Village</td>\n",
       "    </tr>\n",
       "    <tr>\n",
       "      <th>M5A</th>\n",
       "      <td>Downtown Toronto</td>\n",
       "      <td>Regent Park, Harbourfront</td>\n",
       "    </tr>\n",
       "    <tr>\n",
       "      <th>M6A</th>\n",
       "      <td>North York</td>\n",
       "      <td>Lawrence Manor, Lawrence Heights</td>\n",
       "    </tr>\n",
       "    <tr>\n",
       "      <th>M7A</th>\n",
       "      <td>Downtown Toronto</td>\n",
       "      <td>Queen's Park, Ontario Provincial Government</td>\n",
       "    </tr>\n",
       "  </tbody>\n",
       "</table>\n",
       "</div>"
      ],
      "text/plain": [
       "                      Borough                                 Neighborhood\n",
       "Postal Code                                                               \n",
       "M3A                North York                                    Parkwoods\n",
       "M4A                North York                             Victoria Village\n",
       "M5A          Downtown Toronto                    Regent Park, Harbourfront\n",
       "M6A                North York             Lawrence Manor, Lawrence Heights\n",
       "M7A          Downtown Toronto  Queen's Park, Ontario Provincial Government"
      ]
     },
     "execution_count": 4,
     "metadata": {},
     "output_type": "execute_result"
    }
   ],
   "source": [
    "# Combining rows into one row with the neighborhoods separated with a comma.\n",
    "df_new = df.groupby('Postal Code', sort=False).agg(', '.join)\n",
    "df_new.head()"
   ]
  },
  {
   "cell_type": "code",
   "execution_count": 5,
   "metadata": {},
   "outputs": [
    {
     "data": {
      "text/html": [
       "<div>\n",
       "<style scoped>\n",
       "    .dataframe tbody tr th:only-of-type {\n",
       "        vertical-align: middle;\n",
       "    }\n",
       "\n",
       "    .dataframe tbody tr th {\n",
       "        vertical-align: top;\n",
       "    }\n",
       "\n",
       "    .dataframe thead th {\n",
       "        text-align: right;\n",
       "    }\n",
       "</style>\n",
       "<table border=\"1\" class=\"dataframe\">\n",
       "  <thead>\n",
       "    <tr style=\"text-align: right;\">\n",
       "      <th></th>\n",
       "      <th>Postal Code</th>\n",
       "      <th>Borough</th>\n",
       "      <th>Neighborhood</th>\n",
       "    </tr>\n",
       "  </thead>\n",
       "  <tbody>\n",
       "    <tr>\n",
       "      <th>0</th>\n",
       "      <td>M3A</td>\n",
       "      <td>North York</td>\n",
       "      <td>Parkwoods</td>\n",
       "    </tr>\n",
       "    <tr>\n",
       "      <th>1</th>\n",
       "      <td>M4A</td>\n",
       "      <td>North York</td>\n",
       "      <td>Victoria Village</td>\n",
       "    </tr>\n",
       "    <tr>\n",
       "      <th>2</th>\n",
       "      <td>M5A</td>\n",
       "      <td>Downtown Toronto</td>\n",
       "      <td>Regent Park, Harbourfront</td>\n",
       "    </tr>\n",
       "    <tr>\n",
       "      <th>3</th>\n",
       "      <td>M6A</td>\n",
       "      <td>North York</td>\n",
       "      <td>Lawrence Manor, Lawrence Heights</td>\n",
       "    </tr>\n",
       "    <tr>\n",
       "      <th>4</th>\n",
       "      <td>M7A</td>\n",
       "      <td>Downtown Toronto</td>\n",
       "      <td>Queen's Park, Ontario Provincial Government</td>\n",
       "    </tr>\n",
       "  </tbody>\n",
       "</table>\n",
       "</div>"
      ],
      "text/plain": [
       "  Postal Code           Borough                                 Neighborhood\n",
       "0         M3A        North York                                    Parkwoods\n",
       "1         M4A        North York                             Victoria Village\n",
       "2         M5A  Downtown Toronto                    Regent Park, Harbourfront\n",
       "3         M6A        North York             Lawrence Manor, Lawrence Heights\n",
       "4         M7A  Downtown Toronto  Queen's Park, Ontario Provincial Government"
      ]
     },
     "execution_count": 5,
     "metadata": {},
     "output_type": "execute_result"
    }
   ],
   "source": [
    "# Replacing cells with a borough but a Not assigned neighborhood with the neighborhood same as the borough.\n",
    "df_new.loc[df_new['Neighborhood'] =='Not assigned', 'Neighborhood'] = df_new.loc[df_new['Neighborhood'] =='Not assigned', 'Borough']\n",
    "df_new.reset_index(inplace=True)\n",
    "df_new.head()"
   ]
  },
  {
   "cell_type": "code",
   "execution_count": 6,
   "metadata": {},
   "outputs": [
    {
     "data": {
      "text/plain": [
       "(103, 3)"
      ]
     },
     "execution_count": 6,
     "metadata": {},
     "output_type": "execute_result"
    }
   ],
   "source": [
    "# Displaying shape of final dataframe\n",
    "df_new.shape"
   ]
  },
  {
   "cell_type": "markdown",
   "metadata": {},
   "source": [
    "### Second part"
   ]
  },
  {
   "cell_type": "markdown",
   "metadata": {},
   "source": [
    "### Q2: Use the Geocoder package or the csv file to create the following dataframe"
   ]
  },
  {
   "cell_type": "code",
   "execution_count": 7,
   "metadata": {},
   "outputs": [
    {
     "name": "stdout",
     "output_type": "stream",
     "text": [
      "Requirement already satisfied: geocoder in c:\\users\\amirs\\appdata\\local\\programs\\python\\python38\\lib\\site-packages (1.38.1)\n",
      "Requirement already satisfied: click in c:\\users\\amirs\\appdata\\local\\programs\\python\\python38\\lib\\site-packages (from geocoder) (7.1.2)\n",
      "Requirement already satisfied: requests in c:\\users\\amirs\\appdata\\local\\programs\\python\\python38\\lib\\site-packages (from geocoder) (2.24.0)\n",
      "Requirement already satisfied: future in c:\\users\\amirs\\appdata\\local\\programs\\python\\python38\\lib\\site-packages (from geocoder) (0.18.2)\n",
      "Requirement already satisfied: ratelim in c:\\users\\amirs\\appdata\\local\\programs\\python\\python38\\lib\\site-packages (from geocoder) (0.1.6)\n",
      "Requirement already satisfied: six in c:\\users\\amirs\\appdata\\local\\programs\\python\\python38\\lib\\site-packages (from geocoder) (1.15.0)\n",
      "Requirement already satisfied: certifi>=2017.4.17 in c:\\users\\amirs\\appdata\\local\\programs\\python\\python38\\lib\\site-packages (from requests->geocoder) (2020.6.20)\n",
      "Requirement already satisfied: urllib3!=1.25.0,!=1.25.1,<1.26,>=1.21.1 in c:\\users\\amirs\\appdata\\local\\programs\\python\\python38\\lib\\site-packages (from requests->geocoder) (1.25.10)\n",
      "Requirement already satisfied: chardet<4,>=3.0.2 in c:\\users\\amirs\\appdata\\local\\programs\\python\\python38\\lib\\site-packages (from requests->geocoder) (3.0.4)\n",
      "Requirement already satisfied: idna<3,>=2.5 in c:\\users\\amirs\\appdata\\local\\programs\\python\\python38\\lib\\site-packages (from requests->geocoder) (2.10)\n",
      "Requirement already satisfied: decorator in c:\\users\\amirs\\appdata\\local\\programs\\python\\python38\\lib\\site-packages (from ratelim->geocoder) (4.4.2)\n",
      "Done\n"
     ]
    }
   ],
   "source": [
    "# Importing geocoder for getting latitude and logitude\n",
    "!pip install geocoder\n",
    "import geocoder\n",
    "print('Done')"
   ]
  },
  {
   "cell_type": "code",
   "execution_count": 8,
   "metadata": {},
   "outputs": [
    {
     "data": {
      "text/html": [
       "<div>\n",
       "<style scoped>\n",
       "    .dataframe tbody tr th:only-of-type {\n",
       "        vertical-align: middle;\n",
       "    }\n",
       "\n",
       "    .dataframe tbody tr th {\n",
       "        vertical-align: top;\n",
       "    }\n",
       "\n",
       "    .dataframe thead th {\n",
       "        text-align: right;\n",
       "    }\n",
       "</style>\n",
       "<table border=\"1\" class=\"dataframe\">\n",
       "  <thead>\n",
       "    <tr style=\"text-align: right;\">\n",
       "      <th></th>\n",
       "      <th>Postal Code</th>\n",
       "      <th>Borough</th>\n",
       "      <th>Neighborhood</th>\n",
       "      <th>Latitude</th>\n",
       "      <th>Longitude</th>\n",
       "    </tr>\n",
       "  </thead>\n",
       "  <tbody>\n",
       "    <tr>\n",
       "      <th>0</th>\n",
       "      <td>M3A</td>\n",
       "      <td>North York</td>\n",
       "      <td>Parkwoods</td>\n",
       "      <td>None</td>\n",
       "      <td>None</td>\n",
       "    </tr>\n",
       "    <tr>\n",
       "      <th>1</th>\n",
       "      <td>M4A</td>\n",
       "      <td>North York</td>\n",
       "      <td>Victoria Village</td>\n",
       "      <td>None</td>\n",
       "      <td>None</td>\n",
       "    </tr>\n",
       "    <tr>\n",
       "      <th>2</th>\n",
       "      <td>M5A</td>\n",
       "      <td>Downtown Toronto</td>\n",
       "      <td>Regent Park, Harbourfront</td>\n",
       "      <td>None</td>\n",
       "      <td>None</td>\n",
       "    </tr>\n",
       "    <tr>\n",
       "      <th>3</th>\n",
       "      <td>M6A</td>\n",
       "      <td>North York</td>\n",
       "      <td>Lawrence Manor, Lawrence Heights</td>\n",
       "      <td>None</td>\n",
       "      <td>None</td>\n",
       "    </tr>\n",
       "    <tr>\n",
       "      <th>4</th>\n",
       "      <td>M7A</td>\n",
       "      <td>Downtown Toronto</td>\n",
       "      <td>Queen's Park, Ontario Provincial Government</td>\n",
       "      <td>None</td>\n",
       "      <td>None</td>\n",
       "    </tr>\n",
       "  </tbody>\n",
       "</table>\n",
       "</div>"
      ],
      "text/plain": [
       "  Postal Code           Borough                                 Neighborhood  \\\n",
       "0         M3A        North York                                    Parkwoods   \n",
       "1         M4A        North York                             Victoria Village   \n",
       "2         M5A  Downtown Toronto                    Regent Park, Harbourfront   \n",
       "3         M6A        North York             Lawrence Manor, Lawrence Heights   \n",
       "4         M7A  Downtown Toronto  Queen's Park, Ontario Provincial Government   \n",
       "\n",
       "  Latitude Longitude  \n",
       "0     None      None  \n",
       "1     None      None  \n",
       "2     None      None  \n",
       "3     None      None  \n",
       "4     None      None  "
      ]
     },
     "execution_count": 8,
     "metadata": {},
     "output_type": "execute_result"
    }
   ],
   "source": [
    "# Creating empty columns for latitude and longitude\n",
    "df_new['Latitude'] = None\n",
    "df_new['Longitude'] = None\n",
    "df_new.head()"
   ]
  },
  {
   "cell_type": "code",
   "execution_count": 10,
   "metadata": {},
   "outputs": [
    {
     "data": {
      "text/html": [
       "<div>\n",
       "<style scoped>\n",
       "    .dataframe tbody tr th:only-of-type {\n",
       "        vertical-align: middle;\n",
       "    }\n",
       "\n",
       "    .dataframe tbody tr th {\n",
       "        vertical-align: top;\n",
       "    }\n",
       "\n",
       "    .dataframe thead th {\n",
       "        text-align: right;\n",
       "    }\n",
       "</style>\n",
       "<table border=\"1\" class=\"dataframe\">\n",
       "  <thead>\n",
       "    <tr style=\"text-align: right;\">\n",
       "      <th></th>\n",
       "      <th>Postal Code</th>\n",
       "      <th>Borough</th>\n",
       "      <th>Neighborhood</th>\n",
       "      <th>Latitude</th>\n",
       "      <th>Longitude</th>\n",
       "    </tr>\n",
       "  </thead>\n",
       "  <tbody>\n",
       "    <tr>\n",
       "      <th>0</th>\n",
       "      <td>M3A</td>\n",
       "      <td>North York</td>\n",
       "      <td>Parkwoods</td>\n",
       "      <td>43.7525</td>\n",
       "      <td>-79.3299</td>\n",
       "    </tr>\n",
       "    <tr>\n",
       "      <th>1</th>\n",
       "      <td>M4A</td>\n",
       "      <td>North York</td>\n",
       "      <td>Victoria Village</td>\n",
       "      <td>43.7306</td>\n",
       "      <td>-79.3131</td>\n",
       "    </tr>\n",
       "    <tr>\n",
       "      <th>2</th>\n",
       "      <td>M5A</td>\n",
       "      <td>Downtown Toronto</td>\n",
       "      <td>Regent Park, Harbourfront</td>\n",
       "      <td>43.6551</td>\n",
       "      <td>-79.3626</td>\n",
       "    </tr>\n",
       "    <tr>\n",
       "      <th>3</th>\n",
       "      <td>M6A</td>\n",
       "      <td>North York</td>\n",
       "      <td>Lawrence Manor, Lawrence Heights</td>\n",
       "      <td>43.7233</td>\n",
       "      <td>-79.4504</td>\n",
       "    </tr>\n",
       "    <tr>\n",
       "      <th>4</th>\n",
       "      <td>M7A</td>\n",
       "      <td>Downtown Toronto</td>\n",
       "      <td>Queen's Park, Ontario Provincial Government</td>\n",
       "      <td>43.6625</td>\n",
       "      <td>-79.3919</td>\n",
       "    </tr>\n",
       "  </tbody>\n",
       "</table>\n",
       "</div>"
      ],
      "text/plain": [
       "  Postal Code           Borough                                 Neighborhood  \\\n",
       "0         M3A        North York                                    Parkwoods   \n",
       "1         M4A        North York                             Victoria Village   \n",
       "2         M5A  Downtown Toronto                    Regent Park, Harbourfront   \n",
       "3         M6A        North York             Lawrence Manor, Lawrence Heights   \n",
       "4         M7A  Downtown Toronto  Queen's Park, Ontario Provincial Government   \n",
       "\n",
       "  Latitude Longitude  \n",
       "0  43.7525  -79.3299  \n",
       "1  43.7306  -79.3131  \n",
       "2  43.6551  -79.3626  \n",
       "3  43.7233  -79.4504  \n",
       "4  43.6625  -79.3919  "
      ]
     },
     "execution_count": 10,
     "metadata": {},
     "output_type": "execute_result"
    }
   ],
   "source": [
    "# Obtaining latitude and longitude from geocoder.arcgis and adding it to df_new\n",
    "for i, pc in enumerate(df_new['Postal Code']):\n",
    "    lat_lng_coords = None\n",
    "    \n",
    "    while(lat_lng_coords is None):\n",
    "        g = geocoder.arcgis('{}, Toronto, Ontario'.format(pc))\n",
    "        lat_lng_coords = g.latlng\n",
    "    \n",
    "    if lat_lng_coords:\n",
    "        latitude = lat_lng_coords[0]\n",
    "        longitude = lat_lng_coords[1]\n",
    "    \n",
    "    df_new.loc[i, 'Latitude'] = latitude\n",
    "    df_new.loc[i, 'Longitude'] = longitude\n",
    "\n",
    "df_new.head()"
   ]
  },
  {
   "cell_type": "markdown",
   "metadata": {},
   "source": [
    "## Part 3"
   ]
  },
  {
   "cell_type": "code",
   "execution_count": 18,
   "metadata": {},
   "outputs": [
    {
     "name": "stdout",
     "output_type": "stream",
     "text": [
      "Requirement already satisfied: geopy in c:\\users\\amirs\\appdata\\local\\programs\\python\\python38\\lib\\site-packages (2.0.0)\n",
      "Requirement already satisfied: geographiclib<2,>=1.49 in c:\\users\\amirs\\appdata\\local\\programs\\python\\python38\\lib\\site-packages (from geopy) (1.50)\n",
      "The geograpical coordinate of Toronto are 43.6534817, -79.3839347.\n"
     ]
    }
   ],
   "source": [
    "#Using Geopy to get latitude and longitude of Toronto for visualization\n",
    "\n",
    "!pip install geopy\n",
    "from geopy.geocoders import Nominatim\n",
    "\n",
    "address = 'Toronto, CA'\n",
    "geolocator = Nominatim(user_agent='myuseragent')\n",
    "location = geolocator.geocode(address)\n",
    "latitude = location.latitude\n",
    "longitude = location.longitude\n",
    "print('The geograpical coordinate of Toronto are {}, {}.'.format(latitude, longitude))"
   ]
  },
  {
   "cell_type": "code",
   "execution_count": 19,
   "metadata": {},
   "outputs": [
    {
     "name": "stdout",
     "output_type": "stream",
     "text": [
      "Requirement already satisfied: folium in c:\\users\\amirs\\appdata\\local\\programs\\python\\python38\\lib\\site-packages (0.11.0)\n",
      "Requirement already satisfied: jinja2>=2.9 in c:\\users\\amirs\\appdata\\local\\programs\\python\\python38\\lib\\site-packages (from folium) (2.11.2)\n",
      "Requirement already satisfied: requests in c:\\users\\amirs\\appdata\\local\\programs\\python\\python38\\lib\\site-packages (from folium) (2.24.0)\n",
      "Requirement already satisfied: numpy in c:\\users\\amirs\\appdata\\local\\programs\\python\\python38\\lib\\site-packages (from folium) (1.19.2)\n",
      "Requirement already satisfied: branca>=0.3.0 in c:\\users\\amirs\\appdata\\local\\programs\\python\\python38\\lib\\site-packages (from folium) (0.4.1)\n",
      "Requirement already satisfied: MarkupSafe>=0.23 in c:\\users\\amirs\\appdata\\local\\programs\\python\\python38\\lib\\site-packages (from jinja2>=2.9->folium) (1.1.1)\n",
      "Requirement already satisfied: certifi>=2017.4.17 in c:\\users\\amirs\\appdata\\local\\programs\\python\\python38\\lib\\site-packages (from requests->folium) (2020.6.20)\n",
      "Requirement already satisfied: urllib3!=1.25.0,!=1.25.1,<1.26,>=1.21.1 in c:\\users\\amirs\\appdata\\local\\programs\\python\\python38\\lib\\site-packages (from requests->folium) (1.25.10)\n",
      "Requirement already satisfied: chardet<4,>=3.0.2 in c:\\users\\amirs\\appdata\\local\\programs\\python\\python38\\lib\\site-packages (from requests->folium) (3.0.4)\n",
      "Requirement already satisfied: idna<3,>=2.5 in c:\\users\\amirs\\appdata\\local\\programs\\python\\python38\\lib\\site-packages (from requests->folium) (2.10)\n",
      "Done\n"
     ]
    }
   ],
   "source": [
    "# Importing folium for creating visualizations\n",
    "\n",
    "!pip install folium\n",
    "import folium\n",
    "print('Done')"
   ]
  },
  {
   "cell_type": "code",
   "execution_count": 20,
   "metadata": {},
   "outputs": [
    {
     "data": {
      "text/html": [
       "<div style=\"width:100%;\"><div style=\"position:relative;width:100%;height:0;padding-bottom:60%;\"><span style=\"color:#565656\">Make this Notebook Trusted to load map: File -> Trust Notebook</span><iframe src=\"about:blank\" style=\"position:absolute;width:100%;height:100%;left:0;top:0;border:none !important;\" data-html=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 onload=\"this.contentDocument.open();this.contentDocument.write(atob(this.getAttribute('data-html')));this.contentDocument.close();\" allowfullscreen webkitallowfullscreen mozallowfullscreen></iframe></div></div>"
      ],
      "text/plain": [
       "<folium.folium.Map at 0x292029c39a0>"
      ]
     },
     "execution_count": 20,
     "metadata": {},
     "output_type": "execute_result"
    }
   ],
   "source": [
    "# Creating the map of Toronto with neighborhoods superimposed on top\n",
    "map_toronto = folium.Map(location=[latitude, longitude], zoom_start=12)\n",
    "\n",
    "for lat, lng, borough, neighborhood in zip(df_new['Latitude'], df_new['Longitude'], df_new['Borough'], df_new['Neighborhood']):\n",
    "    label = '{}, {}'.format(neighborhood, borough)\n",
    "    label = folium.Popup(label, parse_html=True)\n",
    "    folium.CircleMarker(\n",
    "        [lat, lng],\n",
    "        radius=5,\n",
    "        popup=label,\n",
    "        color='blue',\n",
    "        fill=True,\n",
    "        fill_color='#3186cc',\n",
    "        fill_opacity=0.7,\n",
    "        parse_html=False).add_to(map_toronto)  \n",
    "    \n",
    "map_toronto"
   ]
  },
  {
   "cell_type": "code",
   "execution_count": 21,
   "metadata": {},
   "outputs": [],
   "source": [
    "# Creating Foursquare Credentials\n",
    "CLIENT_ID = 'Y0HXHNP4OTTXTRGTH1K01HO2XTRUZ13I2LV3PIFL1GLJ2FVM' #Please Input Personalized Credentials here\n",
    "CLIENT_SECRET = 'VZGSX02NYILB1HQQSFP5RCMRBZRDOHIOHQ2N2WYVGU0ZMNNU'\n",
    "VERSION = '20200803'"
   ]
  },
  {
   "cell_type": "code",
   "execution_count": 28,
   "metadata": {},
   "outputs": [],
   "source": [
    "# Creating a function to process all neighborhoods and obtai their nearby venues\n",
    "import requests\n",
    "LIMIT = 50\n",
    "radius = 500\n",
    "\n",
    "def getNearbyVenues(names, latitudes, longitudes, radius=500):\n",
    "    \n",
    "    venues_list=[]\n",
    "    for name, lat, lng in zip(names, latitudes, longitudes):\n",
    "        print(name)\n",
    "            \n",
    "        # create the API request URL\n",
    "        url = 'https://api.foursquare.com/v2/venues/explore?&client_id={}&client_secret={}&v={}&ll={},{}&radius={}&limit={}'.format(\n",
    "            CLIENT_ID, \n",
    "            CLIENT_SECRET, \n",
    "            VERSION, \n",
    "            lat, \n",
    "            lng, \n",
    "            radius, \n",
    "            LIMIT)\n",
    "            \n",
    "        # make the GET request\n",
    "        results = requests.get(url).json()['response']['groups'][0]['items']\n",
    "        \n",
    "        # return only relevant information for each nearby venue\n",
    "        venues_list.append([(\n",
    "            name, \n",
    "            lat, \n",
    "            lng, \n",
    "            v['venue']['name'], \n",
    "            v['venue']['location']['lat'], \n",
    "            v['venue']['location']['lng'],  \n",
    "            v['venue']['categories'][0]['name']) for v in results])\n",
    "\n",
    "    nearby_venues = pd.DataFrame([item for venue_list in venues_list for item in venue_list])\n",
    "    nearby_venues.columns = ['Neighborhood', \n",
    "                  'Neighborhood Latitude', \n",
    "                  'Neighborhood Longitude', \n",
    "                  'Venue', \n",
    "                  'Venue Latitude', \n",
    "                  'Venue Longitude', \n",
    "                  'Venue Category']\n",
    "    \n",
    "    return(nearby_venues)"
   ]
  },
  {
   "cell_type": "code",
   "execution_count": 29,
   "metadata": {},
   "outputs": [
    {
     "name": "stdout",
     "output_type": "stream",
     "text": [
      "Parkwoods\n"
     ]
    },
    {
     "ename": "KeyError",
     "evalue": "0",
     "output_type": "error",
     "traceback": [
      "\u001b[1;31m---------------------------------------------------------------------------\u001b[0m",
      "\u001b[1;31mKeyError\u001b[0m                                  Traceback (most recent call last)",
      "\u001b[1;32m<ipython-input-29-ba243529e306>\u001b[0m in \u001b[0;36m<module>\u001b[1;34m\u001b[0m\n\u001b[0;32m      1\u001b[0m \u001b[1;31m# Running the function getNearbyVenues on each neighborhood and creating a new dataframe called venues\u001b[0m\u001b[1;33m\u001b[0m\u001b[1;33m\u001b[0m\u001b[1;33m\u001b[0m\u001b[0m\n\u001b[1;32m----> 2\u001b[1;33m \u001b[0mvenues\u001b[0m \u001b[1;33m=\u001b[0m \u001b[0mgetNearbyVenues\u001b[0m\u001b[1;33m(\u001b[0m\u001b[0mnames\u001b[0m\u001b[1;33m=\u001b[0m\u001b[0mdf_new\u001b[0m\u001b[1;33m[\u001b[0m\u001b[1;34m'Neighborhood'\u001b[0m\u001b[1;33m]\u001b[0m\u001b[1;33m,\u001b[0m \u001b[0mlatitudes\u001b[0m\u001b[1;33m=\u001b[0m\u001b[0mdf_new\u001b[0m\u001b[1;33m[\u001b[0m\u001b[1;34m'Latitude'\u001b[0m\u001b[1;33m]\u001b[0m\u001b[1;33m,\u001b[0m \u001b[0mlongitudes\u001b[0m\u001b[1;33m=\u001b[0m\u001b[0mdf_new\u001b[0m\u001b[1;33m[\u001b[0m\u001b[1;34m'Longitude'\u001b[0m\u001b[1;33m]\u001b[0m\u001b[1;33m)\u001b[0m\u001b[1;33m\u001b[0m\u001b[1;33m\u001b[0m\u001b[0m\n\u001b[0m",
      "\u001b[1;32m<ipython-input-28-813861e9cdf1>\u001b[0m in \u001b[0;36mgetNearbyVenues\u001b[1;34m(names, latitudes, longitudes, radius)\u001b[0m\n\u001b[0;32m     21\u001b[0m \u001b[1;33m\u001b[0m\u001b[0m\n\u001b[0;32m     22\u001b[0m         \u001b[1;31m# make the GET request\u001b[0m\u001b[1;33m\u001b[0m\u001b[1;33m\u001b[0m\u001b[1;33m\u001b[0m\u001b[0m\n\u001b[1;32m---> 23\u001b[1;33m         \u001b[0mresults\u001b[0m \u001b[1;33m=\u001b[0m \u001b[0mrequests\u001b[0m\u001b[1;33m.\u001b[0m\u001b[0mget\u001b[0m\u001b[1;33m(\u001b[0m\u001b[0murl\u001b[0m\u001b[1;33m)\u001b[0m\u001b[1;33m.\u001b[0m\u001b[0mjson\u001b[0m\u001b[1;33m(\u001b[0m\u001b[1;33m)\u001b[0m\u001b[1;33m[\u001b[0m\u001b[1;34m'response'\u001b[0m\u001b[1;33m]\u001b[0m\u001b[1;33m[\u001b[0m\u001b[1;36m0\u001b[0m\u001b[1;33m]\u001b[0m\u001b[1;33m[\u001b[0m\u001b[1;34m'items'\u001b[0m\u001b[1;33m]\u001b[0m\u001b[1;33m\u001b[0m\u001b[1;33m\u001b[0m\u001b[0m\n\u001b[0m\u001b[0;32m     24\u001b[0m \u001b[1;33m\u001b[0m\u001b[0m\n\u001b[0;32m     25\u001b[0m         \u001b[1;31m# return only relevant information for each nearby venue\u001b[0m\u001b[1;33m\u001b[0m\u001b[1;33m\u001b[0m\u001b[1;33m\u001b[0m\u001b[0m\n",
      "\u001b[1;31mKeyError\u001b[0m: 0"
     ]
    }
   ],
   "source": [
    "# Running the function getNearbyVenues on each neighborhood and creating a new dataframe called venues\n",
    "venues = getNearbyVenues(names=df_new['Neighborhood'], latitudes=df_new['Latitude'], longitudes=df_new['Longitude'])"
   ]
  },
  {
   "cell_type": "code",
   "execution_count": 27,
   "metadata": {},
   "outputs": [
    {
     "ename": "NameError",
     "evalue": "name 'venues' is not defined",
     "output_type": "error",
     "traceback": [
      "\u001b[1;31m---------------------------------------------------------------------------\u001b[0m",
      "\u001b[1;31mNameError\u001b[0m                                 Traceback (most recent call last)",
      "\u001b[1;32m<ipython-input-27-2dec5ab30e43>\u001b[0m in \u001b[0;36m<module>\u001b[1;34m\u001b[0m\n\u001b[1;32m----> 1\u001b[1;33m \u001b[0mprint\u001b[0m\u001b[1;33m(\u001b[0m\u001b[0mvenues\u001b[0m\u001b[1;33m.\u001b[0m\u001b[0mshape\u001b[0m\u001b[1;33m)\u001b[0m\u001b[1;33m\u001b[0m\u001b[1;33m\u001b[0m\u001b[0m\n\u001b[0m\u001b[0;32m      2\u001b[0m \u001b[0mvenues\u001b[0m\u001b[1;33m.\u001b[0m\u001b[0mhead\u001b[0m\u001b[1;33m(\u001b[0m\u001b[1;33m)\u001b[0m\u001b[1;33m\u001b[0m\u001b[1;33m\u001b[0m\u001b[0m\n",
      "\u001b[1;31mNameError\u001b[0m: name 'venues' is not defined"
     ]
    }
   ],
   "source": [
    "print(venues.shape)\n",
    "venues.head()"
   ]
  },
  {
   "cell_type": "code",
   "execution_count": null,
   "metadata": {},
   "outputs": [],
   "source": [
    "# Number of venues returned for each neighborhood:\n",
    "venues.groupby('Neighborhood', as_index=False).count()"
   ]
  },
  {
   "cell_type": "code",
   "execution_count": null,
   "metadata": {},
   "outputs": [],
   "source": [
    "# Checking how many unique categories there are:\n",
    "print('There are {} uniques categories.'.format(len(venues['Venue Category'].unique())))"
   ]
  },
  {
   "cell_type": "markdown",
   "metadata": {},
   "source": [
    "## Analyzing each neighborhood"
   ]
  },
  {
   "cell_type": "code",
   "execution_count": null,
   "metadata": {},
   "outputs": [],
   "source": [
    "# one hot encoding\n",
    "venues_onehot = pd.get_dummies(venues[['Venue Category']], prefix=\"\", prefix_sep=\"\")\n",
    "\n",
    "venues_onehot.head()"
   ]
  },
  {
   "cell_type": "code",
   "execution_count": null,
   "metadata": {},
   "outputs": [],
   "source": [
    "# Adding the neighborhood column into venues_onehot dataframe\n",
    "venues_onehot['Neighborhood'] = venues['Neighborhood']\n",
    "venues_onehot.head()"
   ]
  },
  {
   "cell_type": "code",
   "execution_count": null,
   "metadata": {},
   "outputs": [],
   "source": [
    "# Moving the Neighborhood column to the first column\n",
    "temp = list(venues_onehot.columns)\n",
    "\n",
    "if 'Neighborhood' in temp:\n",
    "    temp.remove('Neighborhood')\n",
    "    \n",
    "fixed_columns = ['Neighborhood'] + temp\n",
    "venues_onehot = venues_onehot[fixed_columns]\n",
    "\n",
    "venues_onehot.head()"
   ]
  },
  {
   "cell_type": "code",
   "execution_count": null,
   "metadata": {},
   "outputs": [],
   "source": [
    "# Groupby neighborhood and take mean for all categories\n",
    "venues_grouped = venues_onehot.groupby('Neighborhood', sort=False).mean().reset_index()\n",
    "print(venues_grouped.shape)\n",
    "venues_grouped.head()"
   ]
  },
  {
   "cell_type": "code",
   "execution_count": null,
   "metadata": {},
   "outputs": [],
   "source": [
    "# Viewing the top 3 categories in each neighborhood\n",
    "num_top_venues = 3\n",
    "\n",
    "for hood in venues_grouped['Neighborhood']:\n",
    "    print(\"----\"+hood+\"----\")\n",
    "    temp = venues_grouped[venues_grouped['Neighborhood'] == hood].T.reset_index()\n",
    "    temp.columns = ['venue','freq']\n",
    "    temp = temp.iloc[1:]\n",
    "    temp['freq'] = temp['freq'].astype(float)\n",
    "    temp = temp.round({'freq': 2})\n",
    "    print(temp.sort_values('freq', ascending=False).reset_index(drop=True).head(num_top_venues))\n",
    "    print('\\n')"
   ]
  },
  {
   "cell_type": "markdown",
   "metadata": {},
   "source": [
    "### Creating a dataframe with most common venues"
   ]
  },
  {
   "cell_type": "code",
   "execution_count": null,
   "metadata": {},
   "outputs": [],
   "source": [
    "# First defining a function to sort venues\n",
    "def return_most_common_venues(row, num_top_venues):\n",
    "    row_categories = row.iloc[1:]\n",
    "    row_categories_sorted = row_categories.sort_values(ascending=False)\n",
    "    \n",
    "    return row_categories_sorted.index.values[0:num_top_venues]"
   ]
  },
  {
   "cell_type": "code",
   "execution_count": null,
   "metadata": {},
   "outputs": [],
   "source": [
    "# Creating the dataframe and displaying the top 5 venues for each neighborhood\n",
    "num_top_venues = 5\n",
    "\n",
    "indicators = ['st', 'nd', 'rd']\n",
    "\n",
    "columns = ['Neighborhood']\n",
    "for ind in np.arange(num_top_venues):\n",
    "    try:\n",
    "        columns.append('{}{} Most Common Venue'.format(ind+1, indicators[ind]))\n",
    "    except:\n",
    "        columns.append('{}th Most Common Venue'.format(ind+1))\n",
    "\n",
    "neighborhoods_venues_sorted = pd.DataFrame(columns=columns)\n",
    "neighborhoods_venues_sorted['Neighborhood'] = venues_grouped['Neighborhood']\n",
    "\n",
    "for ind in np.arange(venues_grouped.shape[0]):\n",
    "    neighborhoods_venues_sorted.iloc[ind, 1:] = return_most_common_venues(venues_grouped.iloc[ind, :], num_top_venues)\n",
    "\n",
    "neighborhoods_venues_sorted"
   ]
  },
  {
   "cell_type": "markdown",
   "metadata": {},
   "source": [
    "### KMeans Clustering to cluster neighborhoods"
   ]
  },
  {
   "cell_type": "code",
   "execution_count": null,
   "metadata": {},
   "outputs": [],
   "source": [
    "from sklearn.cluster import KMeans"
   ]
  },
  {
   "cell_type": "code",
   "execution_count": null,
   "metadata": {},
   "outputs": [],
   "source": [
    "# Running KMeans algorithm with 5 clusters\n",
    "k = 5\n",
    "venues_grouped_clustering = venues_grouped.drop('Neighborhood', axis=1)\n",
    "kmeans = KMeans(n_clusters=k, random_state=67).fit(venues_grouped_clustering)\n",
    "kmeans.labels_"
   ]
  },
  {
   "cell_type": "code",
   "execution_count": null,
   "metadata": {},
   "outputs": [],
   "source": [
    "# Create a new dataframe that includes cluster labels and the top 5 venues\n",
    "neighborhoods_venues_sorted.insert(0, 'Cluster Labels', kmeans.labels_)\n",
    "venues_merged = df_new\n",
    "venues_merged = venues_merged.join(neighborhoods_venues_sorted.set_index('Neighborhood'), on='Neighborhood')\n",
    "venues_merged.dropna(inplace=True)"
   ]
  },
  {
   "cell_type": "code",
   "execution_count": null,
   "metadata": {},
   "outputs": [],
   "source": [
    "# Viewing the newly created dataframe\n",
    "print(venues_merged.shape)\n",
    "venues_merged['Cluster Labels'] = venues_merged['Cluster Labels'].astype(int)\n",
    "venues_merged"
   ]
  },
  {
   "cell_type": "code",
   "execution_count": null,
   "metadata": {},
   "outputs": [],
   "source": [
    "# Creating a map to visualize clustering\n",
    "import matplotlib.cm as cm\n",
    "import matplotlib.colors as colors\n",
    "\n",
    "map_clusters = folium.Map(location=[latitude, longitude], zoom_start=12)\n",
    "\n",
    "x = np.arange(k)\n",
    "ys = [i + x + (i*x)**2 for i in range(k)]\n",
    "colors_array = cm.rainbow(np.linspace(0, 1, len(ys)))\n",
    "rainbow = [colors.rgb2hex(i) for i in colors_array]\n",
    "\n",
    "markers_colors = []\n",
    "for lat, lon, poi, cluster in zip(venues_merged['Latitude'], venues_merged['Longitude'], venues_merged['Neighborhood'], venues_merged['Cluster Labels']):\n",
    "    label = folium.Popup(str(poi) + ' Cluster ' + str(cluster), parse_html=True)\n",
    "    folium.CircleMarker(\n",
    "        [lat, lon],\n",
    "        radius=5,\n",
    "        popup=label,\n",
    "        color=rainbow[cluster-1],\n",
    "        fill=True,\n",
    "        fill_color=rainbow[cluster-1],\n",
    "        fill_opacity=0.7).add_to(map_clusters)\n",
    "       \n",
    "map_clusters"
   ]
  },
  {
   "cell_type": "code",
   "execution_count": null,
   "metadata": {},
   "outputs": [],
   "source": [
    "# Viewing members of each cluster\n",
    "venues_merged.loc[venues_merged['Cluster Labels'] == 0, venues_merged.columns[[1] + list(range(5, venues_merged.shape[1]))]]"
   ]
  },
  {
   "cell_type": "code",
   "execution_count": null,
   "metadata": {},
   "outputs": [],
   "source": [
    "venues_merged.loc[venues_merged['Cluster Labels'] == 1, venues_merged.columns[[1] + list(range(5, venues_merged.shape[1]))]]"
   ]
  },
  {
   "cell_type": "code",
   "execution_count": null,
   "metadata": {},
   "outputs": [],
   "source": [
    "venues_merged.loc[venues_merged['Cluster Labels'] == 2, venues_merged.columns[[1] + list(range(5, venues_merged.shape[1]))]]"
   ]
  },
  {
   "cell_type": "code",
   "execution_count": null,
   "metadata": {},
   "outputs": [],
   "source": [
    "venues_merged.loc[venues_merged['Cluster Labels'] == 3, venues_merged.columns[[1] + list(range(5, venues_merged.shape[1]))]]"
   ]
  },
  {
   "cell_type": "code",
   "execution_count": null,
   "metadata": {},
   "outputs": [],
   "source": [
    "venues_merged.loc[venues_merged['Cluster Labels'] == 4, venues_merged.columns[[1] + list(range(5, venues_merged.shape[1]))]]"
   ]
  }
 ],
 "metadata": {
  "kernelspec": {
   "display_name": "Python 3",
   "language": "python",
   "name": "python3"
  },
  "language_info": {
   "codemirror_mode": {
    "name": "ipython",
    "version": 3
   },
   "file_extension": ".py",
   "mimetype": "text/x-python",
   "name": "python",
   "nbconvert_exporter": "python",
   "pygments_lexer": "ipython3",
   "version": "3.8.6"
  }
 },
 "nbformat": 4,
 "nbformat_minor": 4
}
